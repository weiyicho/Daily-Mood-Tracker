{
 "cells": [
  {
   "cell_type": "code",
   "execution_count": 50,
   "metadata": {},
   "outputs": [
    {
     "name": "stderr",
     "output_type": "stream",
     "text": [
      "No model was supplied, defaulted to distilbert-base-uncased-finetuned-sst-2-english and revision af0f99b (https://huggingface.co/distilbert-base-uncased-finetuned-sst-2-english).\n",
      "Using a pipeline without specifying a model name and revision in production is not recommended.\n",
      "No model was supplied, defaulted to distilbert-base-uncased-finetuned-sst-2-english and revision af0f99b (https://huggingface.co/distilbert-base-uncased-finetuned-sst-2-english).\n",
      "Using a pipeline without specifying a model name and revision in production is not recommended.\n"
     ]
    }
   ],
   "source": [
    "from transformers import pipeline\n",
    "sentiment_pipeline = pipeline(\"sentiment-analysis\")\n",
    "from textblob import TextBlob\n",
    "import nltk\n",
    "from vaderSentiment.vaderSentiment import SentimentIntensityAnalyzer\n",
    "from transformers import pipeline\n",
    "sentiment_pipeline = pipeline(\"sentiment-analysis\")\n",
    "specific_model = pipeline(model=\"finiteautomata/bertweet-base-sentiment-analysis\")\n",
    "import pandas as pd\n",
    "\n",
    "\n"
   ]
  },
  {
   "cell_type": "markdown",
   "metadata": {},
   "source": [
    "TextBlob method"
   ]
  },
  {
   "cell_type": "code",
   "execution_count": 57,
   "metadata": {},
   "outputs": [
    {
     "data": {
      "text/plain": [
       "Sentiment(polarity=-0.05214285714285714, subjectivity=0.7102380952380953)"
      ]
     },
     "execution_count": 57,
     "metadata": {},
     "output_type": "execute_result"
    }
   ],
   "source": [
    "data = [\" I've realized that I am indeed very lonely. Sometimes, when I look at the lives of others, I envy the kind of family harmony where parents understand their children. My parents are great too, and they love me in their own way, but it's not the way I hoped for, and I don't know how to express this. I'm always afraid that I'll be useless, always looking for a role model to emulate in hopes of feeling fulfilled. However, my therapist said that this will never satisfy me, and I know it, but I'm really confused. I really don't know what I want. When I see everyone else having clear goals and ideas, especially under pressure, I feel worthless and almost insane. I've realized that I'm truly empty inside. I guess I still hope for someone to accompany me, but I wonder if that person could accept my neuroticism?\"]\n",
    "TextBlob(data[0]).sentiment"
   ]
  },
  {
   "cell_type": "markdown",
   "metadata": {},
   "source": [
    "SentimentIntensityAnalyzer method\n"
   ]
  },
  {
   "cell_type": "code",
   "execution_count": 36,
   "metadata": {},
   "outputs": [
    {
     "data": {
      "text/plain": [
       "{'neg': 0.0, 'neu': 1.0, 'pos': 0.0, 'compound': 0.0}"
      ]
     },
     "execution_count": 36,
     "metadata": {},
     "output_type": "execute_result"
    }
   ],
   "source": [
    "SentimentIntensityAnalyzer().polarity_scores(data[0])"
   ]
  },
  {
   "cell_type": "code",
   "execution_count": 22,
   "metadata": {},
   "outputs": [
    {
     "data": {
      "text/plain": [
       "[{'label': 'NEGATIVE', 'score': 0.9978803396224976}]"
      ]
     },
     "execution_count": 22,
     "metadata": {},
     "output_type": "execute_result"
    }
   ],
   "source": [
    "sentiment_pipeline(\"I've realized that I am indeed very lonely. Sometimes, when I look at the lives of others, I envy the kind of family harmony where parents understand their children. My parents are great too, and they love me in their own way, but it's not the way I hoped for, and I don't know how to express this. I'm always afraid that I'll be useless, always looking for a role model to emulate in hopes of feeling fulfilled. However, my therapist said that this will never satisfy me, and I know it, but I'm really confused. I really don't know what I want. When I see everyone else having clear goals and ideas, especially under pressure, I feel worthless and almost insane. I've realized that I'm truly empty inside. I guess I still hope for someone to accompany me, but I wonder if that person could accept my neuroticism?\")"
   ]
  },
  {
   "cell_type": "markdown",
   "metadata": {},
   "source": [
    "Hugging face method"
   ]
  },
  {
   "cell_type": "code",
   "execution_count": 37,
   "metadata": {},
   "outputs": [
    {
     "name": "stdout",
     "output_type": "stream",
     "text": [
      "[[{'label': 'NEG', 'score': 0.5656577348709106}], [{'label': 'NEU', 'score': 0.9573652744293213}], [{'label': 'NEU', 'score': 0.9064306616783142}], [{'label': 'NEU', 'score': 0.9399012327194214}], [{'label': 'NEU', 'score': 0.9403484463691711}], [{'label': 'NEU', 'score': 0.915009617805481}], [{'label': 'NEU', 'score': 0.9356575608253479}], [{'label': 'NEU', 'score': 0.9355406761169434}], [{'label': 'NEU', 'score': 0.9562433958053589}], [{'label': 'NEU', 'score': 0.956739068031311}], [{'label': 'NEU', 'score': 0.9510396122932434}], [{'label': 'NEU', 'score': 0.9365978837013245}], [{'label': 'NEU', 'score': 0.9401105046272278}], [{'label': 'NEU', 'score': 0.943046510219574}], [{'label': 'NEU', 'score': 0.9547885656356812}], [{'label': 'NEU', 'score': 0.8639951348304749}]]\n"
     ]
    }
   ],
   "source": [
    "sentences = data[0].split('。')\n",
    "\n",
    "# Apply the model to each sentence\n",
    "results = [specific_model([sentence]) for sentence in sentences]\n",
    "\n",
    "print(results)"
   ]
  },
  {
   "cell_type": "code",
   "execution_count": 40,
   "metadata": {},
   "outputs": [
    {
     "data": {
      "text/plain": [
       "[[{'label': 'NEG', 'score': 0.5656577348709106}],\n",
       " [{'label': 'NEU', 'score': 0.9573652744293213}],\n",
       " [{'label': 'NEU', 'score': 0.9064306616783142}],\n",
       " [{'label': 'NEU', 'score': 0.9399012327194214}],\n",
       " [{'label': 'NEU', 'score': 0.9403484463691711}],\n",
       " [{'label': 'NEU', 'score': 0.915009617805481}],\n",
       " [{'label': 'NEU', 'score': 0.9356575608253479}],\n",
       " [{'label': 'NEU', 'score': 0.9355406761169434}],\n",
       " [{'label': 'NEU', 'score': 0.9562433958053589}],\n",
       " [{'label': 'NEU', 'score': 0.956739068031311}],\n",
       " [{'label': 'NEU', 'score': 0.9510396122932434}],\n",
       " [{'label': 'NEU', 'score': 0.9365978837013245}],\n",
       " [{'label': 'NEU', 'score': 0.9401105046272278}],\n",
       " [{'label': 'NEU', 'score': 0.943046510219574}],\n",
       " [{'label': 'NEU', 'score': 0.9547885656356812}],\n",
       " [{'label': 'NEU', 'score': 0.8639951348304749}]]"
      ]
     },
     "execution_count": 40,
     "metadata": {},
     "output_type": "execute_result"
    }
   ],
   "source": [
    "results"
   ]
  },
  {
   "cell_type": "code",
   "execution_count": 53,
   "metadata": {},
   "outputs": [
    {
     "data": {
      "text/plain": [
       "[{'label': 'NEG', 'score': 0.5656577348709106}]"
      ]
     },
     "execution_count": 53,
     "metadata": {},
     "output_type": "execute_result"
    }
   ],
   "source": [
    "results[0]"
   ]
  },
  {
   "cell_type": "code",
   "execution_count": 55,
   "metadata": {},
   "outputs": [
    {
     "data": {
      "text/html": [
       "<div>\n",
       "<style scoped>\n",
       "    .dataframe tbody tr th:only-of-type {\n",
       "        vertical-align: middle;\n",
       "    }\n",
       "\n",
       "    .dataframe tbody tr th {\n",
       "        vertical-align: top;\n",
       "    }\n",
       "\n",
       "    .dataframe thead th {\n",
       "        text-align: right;\n",
       "    }\n",
       "</style>\n",
       "<table border=\"1\" class=\"dataframe\">\n",
       "  <thead>\n",
       "    <tr style=\"text-align: right;\">\n",
       "      <th></th>\n",
       "      <th>label</th>\n",
       "      <th>score</th>\n",
       "    </tr>\n",
       "  </thead>\n",
       "  <tbody>\n",
       "    <tr>\n",
       "      <th>0</th>\n",
       "      <td>NEG</td>\n",
       "      <td>0.565658</td>\n",
       "    </tr>\n",
       "  </tbody>\n",
       "</table>\n",
       "</div>"
      ],
      "text/plain": [
       "  label     score\n",
       "0   NEG  0.565658"
      ]
     },
     "execution_count": 55,
     "metadata": {},
     "output_type": "execute_result"
    }
   ],
   "source": [
    "pd.DataFrame(results[0])"
   ]
  },
  {
   "cell_type": "code",
   "execution_count": null,
   "metadata": {},
   "outputs": [],
   "source": []
  }
 ],
 "metadata": {
  "kernelspec": {
   "display_name": "Python 3",
   "language": "python",
   "name": "python3"
  },
  "language_info": {
   "codemirror_mode": {
    "name": "ipython",
    "version": 3
   },
   "file_extension": ".py",
   "mimetype": "text/x-python",
   "name": "python",
   "nbconvert_exporter": "python",
   "pygments_lexer": "ipython3",
   "version": "3.11.4"
  }
 },
 "nbformat": 4,
 "nbformat_minor": 2
}
